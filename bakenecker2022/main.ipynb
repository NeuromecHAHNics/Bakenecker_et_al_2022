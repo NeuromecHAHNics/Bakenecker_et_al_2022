{
 "cells": [
  {
   "cell_type": "markdown",
   "metadata": {},
   "source": [
    "# RFE Analysis"
   ]
  },
  {
   "cell_type": "code",
   "execution_count": 4,
   "metadata": {},
   "outputs": [],
   "source": [
    "%reset -f\n",
    "import numpy as np\n",
    "import pandas as pd\n",
    "import matplotlib.pyplot as plt\n",
    "from scipy.signal import resample, butter, filtfilt\n",
    "\n",
    "from mat73 import loadmat\n",
    "\n",
    "from util.kinematics import import_vicon_lbi\n",
    "from util.tendontapping import calculate_wavespeed\n",
    "\n",
    "%matplotlib qt"
   ]
  },
  {
   "cell_type": "markdown",
   "metadata": {},
   "source": [
    "## Import data"
   ]
  },
  {
   "cell_type": "code",
   "execution_count": 5,
   "metadata": {},
   "outputs": [],
   "source": [
    "participant = 'MK'\n",
    "condition = 'Fifty_070_1'\n",
    "points = pd.read_csv(f'../data/raw/kinematics/{participant}/{condition}.csv',\n",
    "                     sep=',', skiprows=6, header=0,\n",
    "                     usecols=[x for x in range(2, 29)])\n",
    "spike = loadmat(f'../data/raw/spike/{participant}/{condition}.mat', use_attrdict=True)"
   ]
  },
  {
   "cell_type": "markdown",
   "metadata": {},
   "source": [
    "## Sync with Motive, retrieve relevant spike data"
   ]
  },
  {
   "cell_type": "code",
   "execution_count": 6,
   "metadata": {},
   "outputs": [
    {
     "name": "stdout",
     "output_type": "stream",
     "text": [
      "3456\n"
     ]
    }
   ],
   "source": [
    "sync_start = list(map(lambda i: i > 0.6, spike.Motive['values'])).index(True)\n",
    "print(sync_start)\n",
    "try:\n",
    "    sync_stop = list(map(lambda i: i < 2,\n",
    "                     spike.Motive['values'][sync_start+200:])).index(True) + sync_start + 200\n",
    "except:\n",
    "    sync_stop = -1\n",
    "\n",
    "if sync_stop == -1:\n",
    "    tq_len = len(spike.Torque['values']) - sync_start\n",
    "    Tq = spike.Torque['values'][sync_start:]\n",
    "    Angle = spike.Angle['values'][sync_start:]\n",
    "    Emg = spike.VL['values'][sync_start:] + spike.VM['values'][sync_start:] + spike.RF['values'][sync_start:]\n",
    "else:\n",
    "    tq_len = sync_stop - sync_start\n",
    "    Tq = spike.Torque['values'][sync_start:sync_stop]\n",
    "    Angle = spike.Angle['values'][sync_start:sync_stop]\n",
    "    Emg = spike.VL['values'][sync_start:sync_stop] + spike.VM['values'][sync_start:sync_stop] + spike.RF['values'][sync_start:sync_stop]"
   ]
  },
  {
   "cell_type": "markdown",
   "metadata": {},
   "source": [
    "## Filter data"
   ]
  },
  {
   "cell_type": "code",
   "execution_count": 7,
   "metadata": {},
   "outputs": [],
   "source": [
    "b, a = butter(4, 20, btype='low', fs=2000)\n",
    "Tq = filtfilt(b, a, Tq)\n",
    "Angle = filtfilt(b, a, Angle)\n",
    "\n",
    "Emg_rms = np.convolve(Emg**2, np.ones(500)/500, mode='same')**0.5\n",
    "\n",
    "\n",
    "#first_tap = list(map(lambda i: i > 0.6, spike.TT['values'])).index(True) / 2000\n",
    "#z = np.arange(first_tap, first_tap+14.98, 0.02)\n",
    "ws = calculate_wavespeed(spike.Acc1['values'], spike.Acc2['values'],\n",
    "                         spike.DigMark['times'])\n",
    "\n",
    "ws_sq = ws ** 2"
   ]
  },
  {
   "cell_type": "markdown",
   "metadata": {},
   "source": [
    "## Label markers"
   ]
  },
  {
   "cell_type": "code",
   "execution_count": 8,
   "metadata": {},
   "outputs": [
    {
     "data": {
      "text/plain": [
       "<matplotlib.legend.Legend at 0x1965f986220>"
      ]
     },
     "execution_count": 8,
     "metadata": {},
     "output_type": "execute_result"
    }
   ],
   "source": [
    "Lml, Mml, Kjc, Thigh, Shnk_top, Shnk_bot, Shnk_mid, Pad, Axs, Rot, Crnk = import_vicon_lbi(points)\n",
    "\n",
    "# plot of all markers\n",
    "markers = [Lml, Mml, Kjc, Thigh, Shnk_top, Shnk_bot, Shnk_mid, Pad, Axs, Rot, Crnk]\n",
    "markers_list = ['Lml', 'Mml', 'Kjc', 'Thigh', 'Shnk_top', 'Shnk_bot', 'Shnk_mid', 'Pad', 'Axs', 'Rot', 'Crnk']\n",
    "fig = plt.figure()\n",
    "ax1 = fig.add_subplot(111, projection='3d')\n",
    "for c in markers:\n",
    "    ax1.plot(c[:, 0], c[:, 1], c[:, 2])\n",
    "fig.legend(markers_list)"
   ]
  },
  {
   "cell_type": "markdown",
   "metadata": {},
   "source": [
    "## Calculate angles"
   ]
  },
  {
   "cell_type": "code",
   "execution_count": 9,
   "metadata": {},
   "outputs": [],
   "source": [
    "# pad plane\n",
    "u_pad = Shnk_top - Shnk_bot\n",
    "v_pad = Shnk_mid - Shnk_bot\n",
    "n_pad = np.cross(u_pad, v_pad)\n",
    "n_pad_n = n_pad / np.linalg.norm(n_pad, axis=1)[:, None]\n",
    "\n",
    "# isomed plane\n",
    "u_iso = Rot - Crnk\n",
    "v_iso = Axs - Crnk\n",
    "n_iso = np.cross(u_iso, v_iso)\n",
    "n_iso_n = n_iso / np.linalg.norm(n_iso, axis=1)[:, None]\n",
    "\n",
    "# thigh plane\n",
    "u_thigh = Lml - Mml\n",
    "v_thigh = Thigh - Mml\n",
    "n_thigh = np.cross(u_thigh, v_thigh)\n",
    "n_thigh_n = n_thigh / np.linalg.norm(n_thigh, axis=1)[:, None]\n",
    "\n",
    "# angle in radians\n",
    "angle_pad_iso = np.arccos(np.sum(n_pad_n * n_iso_n, axis=1))\n",
    "angle_pad_thigh = np.arccos(np.sum(n_pad_n * n_thigh_n, axis=1))\n",
    "\n",
    "# upsampled angle, knee angle in degrees\n",
    "angle_pad_iso_tq = resample(angle_pad_iso, tq_len)\n",
    "angle_pad_thigh_tq = resample(angle_pad_thigh, tq_len)\n",
    "knee_angle = 180 - (angle_pad_thigh_tq *180/np.pi)\n"
   ]
  },
  {
   "cell_type": "markdown",
   "metadata": {},
   "source": [
    "## Calculate corrected torque"
   ]
  },
  {
   "cell_type": "code",
   "execution_count": 28,
   "metadata": {},
   "outputs": [],
   "source": [
    "# find point P on isomed lever arm that is shortest distance from the axis\n",
    "d = (Shnk_mid[0, :] - Pad[0, :]) / np.linalg.norm(Shnk_mid[0, :] - Pad[0, :])\n",
    "v = Axs[0, :] - Pad[0, :]\n",
    "t = np.dot(v, d)\n",
    "P = Pad[0, :] + np.dot(t, d)\n",
    "\n",
    "# lever arm as the distance between P and the axis, corrected lever arm between KJC and center of the Pad\n",
    "La = np.linalg.norm(P-Axs[0, :])\n",
    "cLa = np.linalg.norm(Kjc-Pad, axis=1)\n",
    "# if kinemetic data longer than torque data cut it off at the end\n",
    "if sync_stop == -1:\n",
    "    cLa = cLa[:int(tq_len / 20)]\n",
    "# upsample kinemetic lever arm data such that corrected torque can be calculated\n",
    "cLa = resample(cLa, tq_len)\n",
    "\n",
    "# force on the isomed based on the lever arms and the angle between the force application\n",
    "Fiso = Tq / La\n",
    "Fpad = Fiso / abs(np.cos(angle_pad_iso_tq))\n",
    "crTq = Fpad * cLa"
   ]
  },
  {
   "cell_type": "markdown",
   "metadata": {},
   "source": [
    "## Fitfy percent reference contractions"
   ]
  },
  {
   "cell_type": "code",
   "execution_count": 29,
   "metadata": {},
   "outputs": [],
   "source": [
    "fig, ((ax1, ax2), (ax3, ax4)) = plt.subplots(2, 2)\n",
    "ax1.plot(knee_angle)\n",
    "ax1.vlines(7.5*2000-sync_start, np.min(knee_angle), np.max(knee_angle))\n",
    "ax3.plot(Tq)\n",
    "ax3.plot(crTq)\n",
    "ax3.vlines(7.5*2000-sync_start, np.min(crTq), np.max(crTq), 'red')\n",
    "ax2.plot(ws)\n",
    "ax4.plot(ws**2)\n",
    "ax4.vlines(6.5*50, np.min(ws**2), np.max(ws**2), 'red')\n",
    "bases = plt.ginput(2, timeout=-1)\n",
    "tq_base = int(bases[0][0])\n",
    "ws_base= int(bases[1][0])\n",
    "%matplotlib inline\n",
    "\n",
    "start = int(7.5*2000-sync_start)\n",
    "stop = int(8.5*2000-sync_start)\n",
    "ka_ss = np.mean(knee_angle[start:stop])\n",
    "crtq_ss = np.mean(crTq[start:stop]) - np.mean(crTq[tq_base:tq_base+int(0.5*2000)])\n",
    "ws_ss = np.mean(ws[int(6.5*50):int(7.5*50)]) - np.mean(ws[ws_base:ws_base+int(0.5*50)])\n",
    "ws_sq_ss = np.mean(ws_sq[int(6.5*50):int(7.5*50)]) - np.mean(ws_sq[ws_base:ws_base+int(0.5*50)])\n",
    "\n",
    "results = pd.DataFrame([crtq_ss, None, ws_ss, ws_sq_ss, None, ka_ss])\n",
    "results.to_clipboard(index=False)\n"
   ]
  },
  {
   "cell_type": "markdown",
   "metadata": {},
   "source": [
    "## RFE conditions"
   ]
  },
  {
   "cell_type": "code",
   "execution_count": 32,
   "metadata": {},
   "outputs": [],
   "source": [
    "fig, ((ax1, ax2), (ax3, ax4)) = plt.subplots(2, 2)\n",
    "ax1.plot(knee_angle)\n",
    "ax1.plot(Angle)\n",
    "ax3.plot(Tq)\n",
    "ax3.plot(crTq)\n",
    "ax2.plot(ws)\n",
    "ax4.plot(ws**2)\n",
    "bases = plt.ginput(2, timeout=-1)\n",
    "rfe_base = int(bases[0][0])\n",
    "ws_base= int(bases[1][0])\n",
    "%matplotlib inline\n",
    "\n",
    "rfe_time = 18633 - sync_start\n",
    "ws_ss_time = int(18633/2000*50)\n",
    "\n",
    "ws_ss = np.mean(ws[ws_ss_time:ws_ss_time+int(0.5*50)]) - np.mean(ws[ws_base:ws_base+int(0.5*50)])\n",
    "ws_sq_ss = np.mean(ws_sq[ws_ss_time:ws_ss_time+int(0.5*50)]) - np.mean(ws_sq[ws_base:ws_base+int(0.5*50)])\n",
    "\n",
    "tq_ss = np.mean(Tq[rfe_time:rfe_time+int(0.5*2000)]) - np.mean(Tq[rfe_base:rfe_base+int(0.01*2000)])\n",
    "ctq_ss = np.mean(crTq[rfe_time:rfe_time+int(0.5*2000)]) - np.mean(crTq[rfe_base:rfe_base+int(0.01*2000)])\n",
    "\n",
    "k_angle_ss = np.mean(knee_angle[rfe_time:rfe_time+int(0.5*2000)])\n",
    "i_angle_ss = np.mean(Angle[rfe_time:rfe_time+int(0.5*2000)])\n",
    "k_angle_rest = np.mean(knee_angle[rfe_base:int(rfe_base+int(0.01*2000))])\n",
    "i_angle_rest = np.mean(Angle[rfe_base:int(rfe_base+int(0.01*2000))])\n",
    "k_angle_bef = np.min(knee_angle)\n",
    "i_angle_bef = np.min(Angle)\n",
    "\n",
    "results = pd.DataFrame([tq_ss, ctq_ss, None, ws_ss, ws_sq_ss, None, k_angle_rest, k_angle_bef, k_angle_ss, None, i_angle_rest, i_angle_bef, i_angle_ss])\n",
    "results.to_clipboard(index=False)\n"
   ]
  }
 ],
 "metadata": {
  "interpreter": {
   "hash": "e88e62fb93848c554295ca051500f64a07ebf49649b0e59614e15a1e15428db9"
  },
  "kernelspec": {
   "display_name": "Python 3.8.3 64-bit ('Biomech': conda)",
   "name": "python3"
  },
  "language_info": {
   "codemirror_mode": {
    "name": "ipython",
    "version": 3
   },
   "file_extension": ".py",
   "mimetype": "text/x-python",
   "name": "python",
   "nbconvert_exporter": "python",
   "pygments_lexer": "ipython3",
   "version": "3.9.7"
  },
  "orig_nbformat": 2
 },
 "nbformat": 4,
 "nbformat_minor": 2
}
